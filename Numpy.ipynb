{
  "nbformat": 4,
  "nbformat_minor": 0,
  "metadata": {
    "colab": {
      "provenance": [],
      "collapsed_sections": [],
      "authorship_tag": "ABX9TyPLHgxaXhlcbJP6ObZmpo+p",
      "include_colab_link": true
    },
    "kernelspec": {
      "name": "python3",
      "display_name": "Python 3"
    },
    "language_info": {
      "name": "python"
    }
  },
  "cells": [
    {
      "cell_type": "markdown",
      "metadata": {
        "id": "view-in-github",
        "colab_type": "text"
      },
      "source": [
        "<a href=\"https://colab.research.google.com/github/mhc999/ML-PY/blob/main/Numpy.ipynb\" target=\"_parent\"><img src=\"https://colab.research.google.com/assets/colab-badge.svg\" alt=\"Open In Colab\"/></a>"
      ]
    },
    {
      "cell_type": "code",
      "execution_count": 1,
      "metadata": {
        "id": "k50oX61h-YSX"
      },
      "outputs": [],
      "source": [
        "import numpy as np "
      ]
    },
    {
      "cell_type": "code",
      "source": [
        "# Numpy  = Numerical Python \n",
        "# Numpy is faster than lists/tuples \n",
        "\n",
        "from time import process_time # it will calculate the process time\n"
      ],
      "metadata": {
        "id": "f_s366ff-jpW"
      },
      "execution_count": 2,
      "outputs": []
    },
    {
      "cell_type": "code",
      "source": [
        "# list \n",
        "python_list = [i for i in range(10000)]\n",
        "\n",
        "start_time = process_time()\n",
        "\n",
        "python_list = [ i+5 for i in python_list]\n",
        "\n",
        "end_time = process_time()\n",
        "\n",
        "print(end_time - start_time)\n",
        "\n",
        "# this code gives us the time taken for adding 5 to all values in the list"
      ],
      "metadata": {
        "colab": {
          "base_uri": "https://localhost:8080/"
        },
        "id": "inN21Pxz-4QS",
        "outputId": "d3fb145b-72c1-4dc8-8311-7833ae0c192b"
      },
      "execution_count": 7,
      "outputs": [
        {
          "output_type": "stream",
          "name": "stdout",
          "text": [
            "0.0011256039999993916\n"
          ]
        }
      ]
    },
    {
      "cell_type": "code",
      "source": [
        "#numpy \n",
        "\n",
        "np_array = np.array([i for i in range(10000)])\n",
        "\n",
        "start_time = process_time()\n",
        "\n",
        "np_array += 5 \n",
        "\n",
        "end_time = process_time()\n",
        "\n",
        "print(end_time - start_time)\n",
        "\n",
        "# numpy is faster than lists "
      ],
      "metadata": {
        "colab": {
          "base_uri": "https://localhost:8080/"
        },
        "id": "izA0qMk3_P78",
        "outputId": "5dd6d077-c434-4bf8-c7bc-741cce7d1ca0"
      },
      "execution_count": 8,
      "outputs": [
        {
          "output_type": "stream",
          "name": "stdout",
          "text": [
            "0.00017209099999959676\n"
          ]
        }
      ]
    },
    {
      "cell_type": "markdown",
      "source": [],
      "metadata": {
        "id": "sXP0k9T5_3MA"
      }
    },
    {
      "cell_type": "markdown",
      "source": [
        "NUMPY ARRAYS\n"
      ],
      "metadata": {
        "id": "ngiS9VgJ_5Il"
      }
    },
    {
      "cell_type": "code",
      "source": [
        "np_array = np.array([1,2,3,4,5])\n",
        "print(np_array)\n",
        "\n",
        "#In lists, the elements will be separated by a comma and in array, there is nothing like that"
      ],
      "metadata": {
        "colab": {
          "base_uri": "https://localhost:8080/"
        },
        "id": "YPg_6vgK_8YE",
        "outputId": "ead57321-36d2-4285-c1ce-b735477197bf"
      },
      "execution_count": 9,
      "outputs": [
        {
          "output_type": "stream",
          "name": "stdout",
          "text": [
            "[1 2 3 4 5]\n"
          ]
        }
      ]
    },
    {
      "cell_type": "code",
      "source": [
        "#creating a 1 dimensional array\n",
        "a = np.array([1,2,3,4])\n",
        "print(a)\n",
        "a.shape # gives the dimension of the array"
      ],
      "metadata": {
        "colab": {
          "base_uri": "https://localhost:8080/"
        },
        "id": "TfjguBltARm-",
        "outputId": "d88d1374-5d20-4b70-d7de-0cf49d987710"
      },
      "execution_count": 10,
      "outputs": [
        {
          "output_type": "stream",
          "name": "stdout",
          "text": [
            "[1 2 3 4]\n"
          ]
        },
        {
          "output_type": "execute_result",
          "data": {
            "text/plain": [
              "(4,)"
            ]
          },
          "metadata": {},
          "execution_count": 10
        }
      ]
    },
    {
      "cell_type": "code",
      "source": [
        "b= np.array([(1,2,3,4),(5,6,7,8)])\n",
        "print(b)\n",
        "b.shape\n",
        "\n",
        "#(no. of rows, no. of columns) 2 dimesnional "
      ],
      "metadata": {
        "colab": {
          "base_uri": "https://localhost:8080/"
        },
        "id": "psdu3ReVAmfD",
        "outputId": "a165d0d9-470d-48e8-c191-730a2b30c840"
      },
      "execution_count": 12,
      "outputs": [
        {
          "output_type": "stream",
          "name": "stdout",
          "text": [
            "[[1 2 3 4]\n",
            " [5 6 7 8]]\n"
          ]
        },
        {
          "output_type": "execute_result",
          "data": {
            "text/plain": [
              "(2, 4)"
            ]
          },
          "metadata": {},
          "execution_count": 12
        }
      ]
    },
    {
      "cell_type": "code",
      "source": [
        "c = np.array([(1,2,3,4),(5,6,7,8)], dtype=float)\n",
        "print(c)\n",
        "\n",
        "#dtype= data type "
      ],
      "metadata": {
        "colab": {
          "base_uri": "https://localhost:8080/"
        },
        "id": "gwskAzw5A1Np",
        "outputId": "03998401-a9e1-41f0-cfa2-5ffedb4510e8"
      },
      "execution_count": 13,
      "outputs": [
        {
          "output_type": "stream",
          "name": "stdout",
          "text": [
            "[[1. 2. 3. 4.]\n",
            " [5. 6. 7. 8.]]\n"
          ]
        }
      ]
    },
    {
      "cell_type": "code",
      "source": [],
      "metadata": {
        "id": "05PehlemBHPM"
      },
      "execution_count": null,
      "outputs": []
    },
    {
      "cell_type": "markdown",
      "source": [
        "INITIAL PLACEHOLDERS IN NUMPY ARRAYS\n"
      ],
      "metadata": {
        "id": "vbB9qZspBOym"
      }
    },
    {
      "cell_type": "code",
      "source": [
        "#create a numpy array of zeroes\n",
        "x = np.zeros((4,5))\n",
        "print(x)"
      ],
      "metadata": {
        "colab": {
          "base_uri": "https://localhost:8080/"
        },
        "id": "u4x-iaiWBSSp",
        "outputId": "981c5b3e-08a4-4a58-9465-3ebd2c30749c"
      },
      "execution_count": 14,
      "outputs": [
        {
          "output_type": "stream",
          "name": "stdout",
          "text": [
            "[[0. 0. 0. 0. 0.]\n",
            " [0. 0. 0. 0. 0.]\n",
            " [0. 0. 0. 0. 0.]\n",
            " [0. 0. 0. 0. 0.]]\n"
          ]
        }
      ]
    },
    {
      "cell_type": "code",
      "source": [
        "#create a numpy array of ones\n",
        "y = np.ones((3,3))\n",
        "print(y)"
      ],
      "metadata": {
        "colab": {
          "base_uri": "https://localhost:8080/"
        },
        "id": "Z4pF2IWJBeGX",
        "outputId": "535914fa-3ff3-4d87-db48-e1c1e628b5ab"
      },
      "execution_count": 15,
      "outputs": [
        {
          "output_type": "stream",
          "name": "stdout",
          "text": [
            "[[1. 1. 1.]\n",
            " [1. 1. 1.]\n",
            " [1. 1. 1.]]\n"
          ]
        }
      ]
    },
    {
      "cell_type": "code",
      "source": [
        "#array full of a particular value\n",
        "z = np.full((5,4), 5 )\n",
        "print(z)\n",
        "\n",
        "# z = np.full((rows,columns) , value)\n"
      ],
      "metadata": {
        "colab": {
          "base_uri": "https://localhost:8080/"
        },
        "id": "rZ6UEofVBma9",
        "outputId": "89f92177-aa7e-4f40-f3a8-5bc50a58c80f"
      },
      "execution_count": 16,
      "outputs": [
        {
          "output_type": "stream",
          "name": "stdout",
          "text": [
            "[[5 5 5 5]\n",
            " [5 5 5 5]\n",
            " [5 5 5 5]\n",
            " [5 5 5 5]\n",
            " [5 5 5 5]]\n"
          ]
        }
      ]
    },
    {
      "cell_type": "code",
      "source": [
        "#create an identity matrix ( diagonal = 1 and the rest are zero) always square matrix\n",
        "a = np.eye(4)\n",
        "print(a)\n",
        "\n",
        "# 4 is the rows= columns"
      ],
      "metadata": {
        "colab": {
          "base_uri": "https://localhost:8080/"
        },
        "id": "v9XCQ0WXBtqe",
        "outputId": "ae0151a2-c225-48eb-b141-97844e823824"
      },
      "execution_count": 17,
      "outputs": [
        {
          "output_type": "stream",
          "name": "stdout",
          "text": [
            "[[1. 0. 0. 0.]\n",
            " [0. 1. 0. 0.]\n",
            " [0. 0. 1. 0.]\n",
            " [0. 0. 0. 1.]]\n"
          ]
        }
      ]
    },
    {
      "cell_type": "code",
      "source": [
        "#create a numpy array with random values \n",
        "b = np.random.random((3,4)) # all random values will be between 0 and 1 \n",
        "print(b)"
      ],
      "metadata": {
        "colab": {
          "base_uri": "https://localhost:8080/"
        },
        "id": "1reYNkfmCLLT",
        "outputId": "ab01a412-fd6f-4efa-be74-b9044e8112ec"
      },
      "execution_count": 18,
      "outputs": [
        {
          "output_type": "stream",
          "name": "stdout",
          "text": [
            "[[0.10245758 0.88614932 0.12005735 0.66704187]\n",
            " [0.56110762 0.46626688 0.79456449 0.10683209]\n",
            " [0.7945483  0.6440093  0.00873653 0.75996928]]\n"
          ]
        }
      ]
    },
    {
      "cell_type": "code",
      "source": [
        "# create an array with random integers within a specific range\n",
        "c = np.random.randint(10,100,(3,5))\n",
        "# np.random.randint(range,(rows,columns))\n",
        "print(c)\n"
      ],
      "metadata": {
        "colab": {
          "base_uri": "https://localhost:8080/"
        },
        "id": "o0Ri4in_Cc7k",
        "outputId": "1064c42c-f42f-4699-b4ea-8057606b9cdd"
      },
      "execution_count": 19,
      "outputs": [
        {
          "output_type": "stream",
          "name": "stdout",
          "text": [
            "[[99 24 92 96 91]\n",
            " [44 88 38 81 28]\n",
            " [34 31 21 89 58]]\n"
          ]
        }
      ]
    },
    {
      "cell_type": "code",
      "source": [
        "# array of evenly spaced values\n",
        "d = np.linspace(10,30,5)\n",
        "# np.linearlyspaced (start_range, end_Range, no.of values you want in that range)\n",
        "print(d)"
      ],
      "metadata": {
        "colab": {
          "base_uri": "https://localhost:8080/"
        },
        "id": "ndyAHKa3C2JU",
        "outputId": "7c0a966c-2454-48ee-97bb-112a70fb9eef"
      },
      "execution_count": 20,
      "outputs": [
        {
          "output_type": "stream",
          "name": "stdout",
          "text": [
            "[10. 15. 20. 25. 30.]\n"
          ]
        }
      ]
    },
    {
      "cell_type": "code",
      "source": [
        "#array of evenly spaced values specifying the step \n",
        "e = np.arange(10,30,5)\n",
        "# np.arange(start_range,end_range, gap between the two numbers)\n",
        "print(e)"
      ],
      "metadata": {
        "colab": {
          "base_uri": "https://localhost:8080/"
        },
        "id": "IWaDht_fC_m1",
        "outputId": "58b84859-9058-4616-b45d-1766b21a8e51"
      },
      "execution_count": 22,
      "outputs": [
        {
          "output_type": "stream",
          "name": "stdout",
          "text": [
            "[10 15 20 25]\n"
          ]
        }
      ]
    },
    {
      "cell_type": "code",
      "source": [
        "#convert list to numpy array\n",
        "list_1 = [10,20,30,20,50]\n",
        "\n",
        "np_array = np.array(list_1)\n",
        "print(np_array)\n",
        "type(np_array)"
      ],
      "metadata": {
        "colab": {
          "base_uri": "https://localhost:8080/"
        },
        "id": "60yF6YKwDhQ5",
        "outputId": "52c38612-7c0c-47a6-af60-48e8182e0851"
      },
      "execution_count": 24,
      "outputs": [
        {
          "output_type": "stream",
          "name": "stdout",
          "text": [
            "[10 20 30 20 50]\n"
          ]
        },
        {
          "output_type": "execute_result",
          "data": {
            "text/plain": [
              "numpy.ndarray"
            ]
          },
          "metadata": {},
          "execution_count": 24
        }
      ]
    },
    {
      "cell_type": "markdown",
      "source": [
        "ANALYZING A NUMPY ARRAY\n"
      ],
      "metadata": {
        "id": "4j0HenUaD9od"
      }
    },
    {
      "cell_type": "code",
      "source": [
        "c = np.random.randint(10,90,(5,5))\n",
        "print(c)"
      ],
      "metadata": {
        "colab": {
          "base_uri": "https://localhost:8080/"
        },
        "id": "6pDUvJWrD_8G",
        "outputId": "2fed41e0-622a-4263-be68-af2bb761adc8"
      },
      "execution_count": 25,
      "outputs": [
        {
          "output_type": "stream",
          "name": "stdout",
          "text": [
            "[[28 74 19 86 55]\n",
            " [25 76 19 62 62]\n",
            " [51 34 73 88 28]\n",
            " [26 22 87 41 26]\n",
            " [74 77 38 20 19]]\n"
          ]
        }
      ]
    },
    {
      "cell_type": "code",
      "source": [
        "# find array dimension\n",
        "print(c.shape)"
      ],
      "metadata": {
        "colab": {
          "base_uri": "https://localhost:8080/"
        },
        "id": "rA6D88MfEKe-",
        "outputId": "91f18401-f52a-4d50-ffc6-ec1fcf4b1765"
      },
      "execution_count": 26,
      "outputs": [
        {
          "output_type": "stream",
          "name": "stdout",
          "text": [
            "(5, 5)\n"
          ]
        }
      ]
    },
    {
      "cell_type": "code",
      "source": [
        "# np. of dimensions\n",
        "print(c.ndim)\n",
        "# rows and columns = 2"
      ],
      "metadata": {
        "colab": {
          "base_uri": "https://localhost:8080/"
        },
        "id": "h3ovrOrnER91",
        "outputId": "9b0e7ee5-2aa6-4400-a65c-b34fec9cb473"
      },
      "execution_count": 27,
      "outputs": [
        {
          "output_type": "stream",
          "name": "stdout",
          "text": [
            "2\n"
          ]
        }
      ]
    },
    {
      "cell_type": "code",
      "source": [
        "# no. of elements in an array\n",
        "print(c.size)"
      ],
      "metadata": {
        "colab": {
          "base_uri": "https://localhost:8080/"
        },
        "id": "3qEK1x1OEWii",
        "outputId": "a1f9ff79-50b6-4e45-e16b-21dc09093ffe"
      },
      "execution_count": 28,
      "outputs": [
        {
          "output_type": "stream",
          "name": "stdout",
          "text": [
            "25\n"
          ]
        }
      ]
    },
    {
      "cell_type": "code",
      "source": [
        "#checking data type of values in the array\n",
        "print(c.dtype)"
      ],
      "metadata": {
        "colab": {
          "base_uri": "https://localhost:8080/"
        },
        "id": "3kTKsoL4Ee0H",
        "outputId": "1024a13c-5ce2-444d-fcf6-4ba75229e056"
      },
      "execution_count": 29,
      "outputs": [
        {
          "output_type": "stream",
          "name": "stdout",
          "text": [
            "int64\n"
          ]
        }
      ]
    },
    {
      "cell_type": "markdown",
      "source": [
        "MATHEMATICAL OPERATIONS ON NUMPY ARRAY"
      ],
      "metadata": {
        "id": "H57EOsBqEmYN"
      }
    },
    {
      "cell_type": "code",
      "source": [
        "list1 = [1,2,3,4,5]\n",
        "list2 = [6,7,8,9,10]\n",
        "\n",
        "print(list1 + list2)\n",
        "# basically the two lists will be concatenated"
      ],
      "metadata": {
        "colab": {
          "base_uri": "https://localhost:8080/"
        },
        "id": "uhwlcNyDErSQ",
        "outputId": "a3a09e6f-ed1a-463b-96ca-28ad08f13e55"
      },
      "execution_count": 30,
      "outputs": [
        {
          "output_type": "stream",
          "name": "stdout",
          "text": [
            "[1, 2, 3, 4, 5, 6, 7, 8, 9, 10]\n"
          ]
        }
      ]
    },
    {
      "cell_type": "code",
      "source": [
        "a = np.random.randint(0,10,(3,3))\n",
        "b = np.random.randint(10,20,(3,3))\n",
        "print(a)\n",
        "print(b)"
      ],
      "metadata": {
        "colab": {
          "base_uri": "https://localhost:8080/"
        },
        "id": "gVMjAK-rE4Ep",
        "outputId": "1aa556af-0181-4bf8-fb5a-667765cdd650"
      },
      "execution_count": 32,
      "outputs": [
        {
          "output_type": "stream",
          "name": "stdout",
          "text": [
            "[[8 3 8]\n",
            " [3 2 2]\n",
            " [0 1 5]]\n",
            "[[12 17 17]\n",
            " [15 10 12]\n",
            " [11 18 19]]\n"
          ]
        }
      ]
    },
    {
      "cell_type": "code",
      "source": [
        "# ELEMENT WISE ADD/SUB/MULT/DIV WILL TAKE PLACE \n",
        "print(a+b)\n",
        "print(a-b)\n",
        "print(a*b)\n",
        "print(a/b)\n"
      ],
      "metadata": {
        "colab": {
          "base_uri": "https://localhost:8080/"
        },
        "id": "LPy31fagFIh2",
        "outputId": "b698b125-5f10-4302-ce24-879df104e5a3"
      },
      "execution_count": 35,
      "outputs": [
        {
          "output_type": "stream",
          "name": "stdout",
          "text": [
            "[[20 20 25]\n",
            " [18 12 14]\n",
            " [11 19 24]]\n",
            "[[ -4 -14  -9]\n",
            " [-12  -8 -10]\n",
            " [-11 -17 -14]]\n",
            "[[ 96  51 136]\n",
            " [ 45  20  24]\n",
            " [  0  18  95]]\n",
            "[[0.66666667 0.17647059 0.47058824]\n",
            " [0.2        0.2        0.16666667]\n",
            " [0.         0.05555556 0.26315789]]\n"
          ]
        }
      ]
    },
    {
      "cell_type": "code",
      "source": [
        "a = np.random.randint(0,10,(3,3))\n",
        "b = np.random.randint(10,20,(3,3))\n",
        "print(a)\n",
        "print(b)"
      ],
      "metadata": {
        "colab": {
          "base_uri": "https://localhost:8080/"
        },
        "id": "r22ofXtSFNf4",
        "outputId": "a18533f9-0004-4d93-fb14-62b22d2e98ac"
      },
      "execution_count": 36,
      "outputs": [
        {
          "output_type": "stream",
          "name": "stdout",
          "text": [
            "[[8 0 6]\n",
            " [8 4 6]\n",
            " [9 7 6]]\n",
            "[[15 14 12]\n",
            " [13 13 17]\n",
            " [13 13 12]]\n"
          ]
        }
      ]
    },
    {
      "cell_type": "code",
      "source": [
        "print(np.add(a,b))\n",
        "print(np.subtract(a,b))\n",
        "print(np.multiply(a,b))\n",
        "print(np.divide(a,b))"
      ],
      "metadata": {
        "colab": {
          "base_uri": "https://localhost:8080/"
        },
        "id": "4dfklJx_FoKH",
        "outputId": "fdc7ade8-2293-4b45-de34-7baa509794b3"
      },
      "execution_count": 37,
      "outputs": [
        {
          "output_type": "stream",
          "name": "stdout",
          "text": [
            "[[23 14 18]\n",
            " [21 17 23]\n",
            " [22 20 18]]\n",
            "[[ -7 -14  -6]\n",
            " [ -5  -9 -11]\n",
            " [ -4  -6  -6]]\n",
            "[[120   0  72]\n",
            " [104  52 102]\n",
            " [117  91  72]]\n",
            "[[0.53333333 0.         0.5       ]\n",
            " [0.61538462 0.30769231 0.35294118]\n",
            " [0.69230769 0.53846154 0.5       ]]\n"
          ]
        }
      ]
    },
    {
      "cell_type": "markdown",
      "source": [
        "ARRAY MANIPULATION\n"
      ],
      "metadata": {
        "id": "w8_qwp7RF5Yh"
      }
    },
    {
      "cell_type": "code",
      "source": [
        "array = np.random.randint(0,10,(2,3))\n",
        "print(array)\n",
        "print(array.shape)"
      ],
      "metadata": {
        "colab": {
          "base_uri": "https://localhost:8080/"
        },
        "id": "T68t6k0DF7zk",
        "outputId": "1265a227-cf7a-4716-db43-5647f628ed83"
      },
      "execution_count": 38,
      "outputs": [
        {
          "output_type": "stream",
          "name": "stdout",
          "text": [
            "[[9 1 6]\n",
            " [2 3 4]]\n",
            "(2, 3)\n"
          ]
        }
      ]
    },
    {
      "cell_type": "code",
      "source": [
        "# find transpose\n",
        "trans = np.transpose(array)\n",
        "print(trans)\n",
        "print(trans.shape)\n",
        "#or\n",
        "trans2 = array.T\n",
        "print(trans2)\n",
        "print(trans2.shape)"
      ],
      "metadata": {
        "colab": {
          "base_uri": "https://localhost:8080/"
        },
        "id": "K3nvWtVGGH4t",
        "outputId": "24fa0d24-ded3-411b-ede8-f6fb969631c6"
      },
      "execution_count": 40,
      "outputs": [
        {
          "output_type": "stream",
          "name": "stdout",
          "text": [
            "[[9 2]\n",
            " [1 3]\n",
            " [6 4]]\n",
            "(3, 2)\n",
            "[[9 2]\n",
            " [1 3]\n",
            " [6 4]]\n",
            "(3, 2)\n"
          ]
        }
      ]
    },
    {
      "cell_type": "code",
      "source": [
        "#reshaping an array\n",
        "\n",
        "a = np.random.randint(0,10,(2,3))\n",
        "print(a)\n",
        "print(a.shape)\n"
      ],
      "metadata": {
        "colab": {
          "base_uri": "https://localhost:8080/"
        },
        "id": "f_wx8DVbGReE",
        "outputId": "9dc62264-831f-48b3-f067-a911e3c070b7"
      },
      "execution_count": 41,
      "outputs": [
        {
          "output_type": "stream",
          "name": "stdout",
          "text": [
            "[[9 0 6]\n",
            " [0 9 8]]\n",
            "(2, 3)\n"
          ]
        }
      ]
    },
    {
      "cell_type": "code",
      "source": [
        "b = a.reshape(3,2)\n",
        "#a.reshape(new rows,new columns)\n",
        "print(b)\n",
        "print(b.shape)"
      ],
      "metadata": {
        "colab": {
          "base_uri": "https://localhost:8080/"
        },
        "id": "4x6wn1TLGrNy",
        "outputId": "e2cfd1ec-1b52-49d7-d3e9-ceac34f2c7bf"
      },
      "execution_count": 42,
      "outputs": [
        {
          "output_type": "stream",
          "name": "stdout",
          "text": [
            "[[9 0]\n",
            " [6 0]\n",
            " [9 8]]\n",
            "(3, 2)\n"
          ]
        }
      ]
    },
    {
      "cell_type": "code",
      "source": [],
      "metadata": {
        "id": "ccmA9blYGzoP"
      },
      "execution_count": null,
      "outputs": []
    }
  ]
}